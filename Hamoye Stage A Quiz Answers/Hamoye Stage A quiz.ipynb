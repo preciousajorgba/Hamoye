{
 "cells": [
  {
   "cell_type": "code",
   "execution_count": 1,
   "id": "99ff018d",
   "metadata": {},
   "outputs": [],
   "source": [
    "import numpy as np"
   ]
  },
  {
   "cell_type": "code",
   "execution_count": 2,
   "id": "1f2b612f",
   "metadata": {},
   "outputs": [],
   "source": [
    "import pandas as pd"
   ]
  },
  {
   "cell_type": "code",
   "execution_count": 4,
   "id": "0a19b388",
   "metadata": {},
   "outputs": [],
   "source": [
    "fbs = pd.read_csv('FoodBalanceSheets.csv')"
   ]
  },
  {
   "cell_type": "code",
   "execution_count": 5,
   "id": "280add9d",
   "metadata": {},
   "outputs": [
    {
     "name": "stderr",
     "output_type": "stream",
     "text": [
      "C:\\Users\\PATIEN~1\\AppData\\Local\\Temp/ipykernel_4628/1734419991.py:3: FutureWarning: Indexing with multiple keys (implicitly converted to a tuple of keys) will be deprecated, use a list instead.\n",
      "  fbs.loc[(fbs.Item == 'Animal fats')].groupby('Item')['Y2014','Y2017'].sum()\n"
     ]
    },
    {
     "data": {
      "text/html": [
       "<div>\n",
       "<style scoped>\n",
       "    .dataframe tbody tr th:only-of-type {\n",
       "        vertical-align: middle;\n",
       "    }\n",
       "\n",
       "    .dataframe tbody tr th {\n",
       "        vertical-align: top;\n",
       "    }\n",
       "\n",
       "    .dataframe thead th {\n",
       "        text-align: right;\n",
       "    }\n",
       "</style>\n",
       "<table border=\"1\" class=\"dataframe\">\n",
       "  <thead>\n",
       "    <tr style=\"text-align: right;\">\n",
       "      <th></th>\n",
       "      <th>Y2014</th>\n",
       "      <th>Y2017</th>\n",
       "    </tr>\n",
       "    <tr>\n",
       "      <th>Item</th>\n",
       "      <th></th>\n",
       "      <th></th>\n",
       "    </tr>\n",
       "  </thead>\n",
       "  <tbody>\n",
       "    <tr>\n",
       "      <th>Animal fats</th>\n",
       "      <td>209460.54</td>\n",
       "      <td>269617.53</td>\n",
       "    </tr>\n",
       "  </tbody>\n",
       "</table>\n",
       "</div>"
      ],
      "text/plain": [
       "                 Y2014      Y2017\n",
       "Item                             \n",
       "Animal fats  209460.54  269617.53"
      ]
     },
     "execution_count": 5,
     "metadata": {},
     "output_type": "execute_result"
    }
   ],
   "source": [
    "# What is the total sum of Animal Fat produced in 2014 and 2017 respectively?\n",
    "\n",
    "fbs.loc[(fbs.Item == 'Animal fats')].groupby('Item')['Y2014','Y2017'].sum()"
   ]
  },
  {
   "cell_type": "code",
   "execution_count": 7,
   "id": "a2a39c56",
   "metadata": {},
   "outputs": [
    {
     "name": "stdout",
     "output_type": "stream",
     "text": [
      "135.23596649549236\n",
      "1603.4039839423301\n"
     ]
    }
   ],
   "source": [
    "#What is the mean and standard deviation across the whole dataset for the year 2015 to 3 decimal places?\n",
    "print(fbs['Y2015'].mean())\n",
    "print(fbs['Y2015'].std())"
   ]
  },
  {
   "cell_type": "code",
   "execution_count": 19,
   "id": "efbb0de7",
   "metadata": {},
   "outputs": [
    {
     "name": "stdout",
     "output_type": "stream",
     "text": [
      "1535\n",
      "20.160231153138955\n"
     ]
    }
   ],
   "source": [
    "#What is the total number and percentage of missing data in 2016 to 2 decimal \n",
    "print(fbs['Y2016'].isnull().sum())\n",
    "print((fbs['Y2016'].isnull().sum()/fbs.isnull().sum().sum()) * 100)\n"
   ]
  },
  {
   "cell_type": "code",
   "execution_count": 20,
   "id": "e4977ed0",
   "metadata": {},
   "outputs": [
    {
     "name": "stderr",
     "output_type": "stream",
     "text": [
      "C:\\Users\\PATIEN~1\\AppData\\Local\\Temp/ipykernel_4628/3304934196.py:2: FutureWarning: Indexing with multiple keys (implicitly converted to a tuple of keys) will be deprecated, use a list instead.\n",
      "  fbs.groupby('Element Code')['Y2014','Y2015','Y2016','Y2017','Y2018'].corr().sum()\n"
     ]
    },
    {
     "data": {
      "text/plain": [
       "Y2014    84.216869\n",
       "Y2015    83.535900\n",
       "Y2016    85.115735\n",
       "Y2017    84.965204\n",
       "Y2018    84.498238\n",
       "dtype: float64"
      ]
     },
     "execution_count": 20,
     "metadata": {},
     "output_type": "execute_result"
    }
   ],
   "source": [
    "#Which year had the highest correlation with ‘Element Code’? \n",
    "fbs.groupby('Element Code')['Y2014','Y2015','Y2016','Y2017','Y2018'].corr().sum()\n"
   ]
  },
  {
   "cell_type": "code",
   "execution_count": 21,
   "id": "3f43b6ff",
   "metadata": {},
   "outputs": [
    {
     "name": "stderr",
     "output_type": "stream",
     "text": [
      "C:\\Users\\PATIEN~1\\AppData\\Local\\Temp/ipykernel_4628/2854735033.py:2: FutureWarning: Indexing with multiple keys (implicitly converted to a tuple of keys) will be deprecated, use a list instead.\n",
      "  fbs.loc[(fbs.Element == 'Import Quantity')].groupby('Element')['Y2014','Y2015','Y2017','Y2018'].max()\n"
     ]
    },
    {
     "data": {
      "text/html": [
       "<div>\n",
       "<style scoped>\n",
       "    .dataframe tbody tr th:only-of-type {\n",
       "        vertical-align: middle;\n",
       "    }\n",
       "\n",
       "    .dataframe tbody tr th {\n",
       "        vertical-align: top;\n",
       "    }\n",
       "\n",
       "    .dataframe thead th {\n",
       "        text-align: right;\n",
       "    }\n",
       "</style>\n",
       "<table border=\"1\" class=\"dataframe\">\n",
       "  <thead>\n",
       "    <tr style=\"text-align: right;\">\n",
       "      <th></th>\n",
       "      <th>Y2014</th>\n",
       "      <th>Y2015</th>\n",
       "      <th>Y2017</th>\n",
       "      <th>Y2018</th>\n",
       "    </tr>\n",
       "    <tr>\n",
       "      <th>Element</th>\n",
       "      <th></th>\n",
       "      <th></th>\n",
       "      <th></th>\n",
       "      <th></th>\n",
       "    </tr>\n",
       "  </thead>\n",
       "  <tbody>\n",
       "    <tr>\n",
       "      <th>Import Quantity</th>\n",
       "      <td>19582.0</td>\n",
       "      <td>18824.0</td>\n",
       "      <td>18627.0</td>\n",
       "      <td>18036.0</td>\n",
       "    </tr>\n",
       "  </tbody>\n",
       "</table>\n",
       "</div>"
      ],
      "text/plain": [
       "                   Y2014    Y2015    Y2017    Y2018\n",
       "Element                                            \n",
       "Import Quantity  19582.0  18824.0  18627.0  18036.0"
      ]
     },
     "execution_count": 21,
     "metadata": {},
     "output_type": "execute_result"
    }
   ],
   "source": [
    "#What year has the highest sum of Import Quantity?\n",
    "fbs.loc[(fbs.Element == 'Import Quantity')].groupby('Element')['Y2014','Y2015','Y2017','Y2018'].max()"
   ]
  },
  {
   "cell_type": "code",
   "execution_count": 22,
   "id": "e99171c8",
   "metadata": {},
   "outputs": [
    {
     "data": {
      "text/plain": [
       "Element\n",
       "Production    1931287.75\n",
       "Name: Y2014, dtype: float64"
      ]
     },
     "execution_count": 22,
     "metadata": {},
     "output_type": "execute_result"
    }
   ],
   "source": [
    "#What is the total number of the sum of Production in 2014?\n",
    "fbs.loc[(fbs.Element == 'Production')].groupby('Element')['Y2014'].sum()"
   ]
  },
  {
   "cell_type": "code",
   "execution_count": 23,
   "id": "c4f6bb2b",
   "metadata": {},
   "outputs": [
    {
     "data": {
      "text/plain": [
       "Element\n",
       "Domestic supply quantity    2161192.1\n",
       "Name: Y2018, dtype: float64"
      ]
     },
     "execution_count": 23,
     "metadata": {},
     "output_type": "execute_result"
    }
   ],
   "source": [
    "#Which of these elements had the highest sum in 2018?\n",
    "\n",
    "fbs.groupby('Element')['Y2018'].sum().sort_values().nlargest(1)\n"
   ]
  },
  {
   "cell_type": "code",
   "execution_count": 25,
   "id": "26922ae3",
   "metadata": {},
   "outputs": [
    {
     "data": {
      "text/plain": [
       "Element\n",
       "Tourist consumption                          90.00\n",
       "Fat supply quantity (g/capita/day)        10258.69\n",
       "Protein supply quantity (g/capita/day)    11833.56\n",
       "Name: Y2018, dtype: float64"
      ]
     },
     "execution_count": 25,
     "metadata": {},
     "output_type": "execute_result"
    }
   ],
   "source": [
    "#Which of these elements had the 3rd lowest sum in 2018?\n",
    "fbs.groupby('Element')['Y2018'].sum().sort_values().nsmallest(3)"
   ]
  },
  {
   "cell_type": "code",
   "execution_count": 26,
   "id": "3d4a72f5",
   "metadata": {},
   "outputs": [
    {
     "data": {
      "text/plain": [
       "Area     Element        \n",
       "Algeria  Import Quantity    36238.29\n",
       "Name: Y2018, dtype: float64"
      ]
     },
     "execution_count": 26,
     "metadata": {},
     "output_type": "execute_result"
    }
   ],
   "source": [
    "#What is the total Import Quantity in Algeria in 2018?\n",
    "a = pd.merge(fbs.loc[(fbs.Element == 'Import Quantity')] ,fbs.loc[(fbs.Area == 'Algeria')])\n",
    "a.groupby(['Area','Element'])['Y2018'].sum()"
   ]
  },
  {
   "cell_type": "code",
   "execution_count": 33,
   "id": "04f15a63",
   "metadata": {},
   "outputs": [
    {
     "data": {
      "text/plain": [
       "49"
      ]
     },
     "execution_count": 33,
     "metadata": {},
     "output_type": "execute_result"
    }
   ],
   "source": [
    "#What is the total number of unique countries in the dataset?\n",
    "len(fbs['Area'].unique())"
   ]
  },
  {
   "cell_type": "code",
   "execution_count": null,
   "id": "f5642515",
   "metadata": {},
   "outputs": [],
   "source": []
  }
 ],
 "metadata": {
  "kernelspec": {
   "display_name": "Python 3 (ipykernel)",
   "language": "python",
   "name": "python3"
  },
  "language_info": {
   "codemirror_mode": {
    "name": "ipython",
    "version": 3
   },
   "file_extension": ".py",
   "mimetype": "text/x-python",
   "name": "python",
   "nbconvert_exporter": "python",
   "pygments_lexer": "ipython3",
   "version": "3.9.7"
  }
 },
 "nbformat": 4,
 "nbformat_minor": 5
}
